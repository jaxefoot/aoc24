{
 "cells": [
  {
   "cell_type": "code",
   "execution_count": null,
   "metadata": {},
   "outputs": [
    {
     "data": {
      "text/plain": [
       "356"
      ]
     },
     "execution_count": 60,
     "metadata": {},
     "output_type": "execute_result"
    }
   ],
   "source": [
    "input_file = \"input.txt\"\n",
    "with open(input_file, \"r\") as file:\n",
    "    lines = file.readlines()\n",
    "\n",
    "reports = []\n",
    "for line in lines:\n",
    "    line = line.strip()\n",
    "    line = line.split(\" \")\n",
    "    line = list(map(lambda x: int(x), line))\n",
    "    reports.append(line)\n",
    "\n",
    "\n",
    "def get_number_of_safe_reports(reports):\n",
    "    counter = 0\n",
    "    for report in reports:\n",
    "        is_safe = True\n",
    "        index = 0\n",
    "        is_increasing = report[1] > report[0]\n",
    "        while index < len(report) - 1:\n",
    "            diff = report[index + 1] - report[index]\n",
    "            if (is_increasing and diff < 1 or diff > 3) or (\n",
    "                not is_increasing and diff > -1 or diff < -3\n",
    "            ):\n",
    "                is_safe = False\n",
    "                break\n",
    "            index += 1\n",
    "        if is_safe:\n",
    "            counter += 1\n",
    "    return counter\n",
    "\n",
    "\n",
    "get_number_of_safe_reports(reports)"
   ]
  },
  {
   "cell_type": "code",
   "execution_count": null,
   "metadata": {},
   "outputs": [
    {
     "data": {
      "text/plain": [
       "413"
      ]
     },
     "execution_count": 61,
     "metadata": {},
     "output_type": "execute_result"
    }
   ],
   "source": [
    "def get_dampened_number_of_safe_reports(reports):\n",
    "    counter = 0\n",
    "    for report in reports:\n",
    "        is_safe = True\n",
    "        index = 0\n",
    "        is_increasing = report[1] > report[0]\n",
    "        while index < len(report) - 1:\n",
    "            diff = report[index + 1] - report[index]\n",
    "            if (is_increasing and diff < 1 or diff > 3) or (not is_increasing and diff > -1 or diff < -3):\n",
    "                is_safe = False\n",
    "                break\n",
    "            index += 1\n",
    "        if not is_safe:\n",
    "            # this is so ugly, but kinda works\n",
    "            copy1 = report.copy()\n",
    "            copy2 = report.copy()\n",
    "            copy3 = report.copy()\n",
    "            del copy1[index + 1]\n",
    "            del copy2[index]\n",
    "            if index > 0:\n",
    "                del copy3[index-1]\n",
    "            if get_number_of_safe_reports([copy1]) == 1 or get_number_of_safe_reports([copy2]) == 1 or get_number_of_safe_reports([copy3]) == 1:\n",
    "                counter += 1\n",
    "        else:\n",
    "            counter += 1\n",
    "    return counter\n",
    "\n",
    "get_dampened_number_of_safe_reports(reports)\n",
    "\n"
   ]
  }
 ],
 "metadata": {
  "kernelspec": {
   "display_name": "venv",
   "language": "python",
   "name": "python3"
  },
  "language_info": {
   "codemirror_mode": {
    "name": "ipython",
    "version": 3
   },
   "file_extension": ".py",
   "mimetype": "text/x-python",
   "name": "python",
   "nbconvert_exporter": "python",
   "pygments_lexer": "ipython3",
   "version": "3.11.9"
  }
 },
 "nbformat": 4,
 "nbformat_minor": 2
}
