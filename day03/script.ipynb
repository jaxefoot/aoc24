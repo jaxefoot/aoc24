{
 "cells": [
  {
   "cell_type": "code",
   "execution_count": 26,
   "metadata": {},
   "outputs": [
    {
     "data": {
      "text/plain": [
       "175700056"
      ]
     },
     "execution_count": 26,
     "metadata": {},
     "output_type": "execute_result"
    }
   ],
   "source": [
    "import re\n",
    "\n",
    "input_file = \"input.txt\"\n",
    "\n",
    "with open(input_file) as file:\n",
    "    content = file.read()\n",
    "    valid_expressions = re.findall('mul\\(\\d{,3},\\d{,3}\\)', content)\n",
    "\n",
    "# valid_expressions = valid_expressions[:1]\n",
    "\n",
    "sum = 0\n",
    "for valid_expression in valid_expressions:\n",
    "    first_number, second_number = valid_expression.split(\",\")\n",
    "    first_number = int(first_number[4:])\n",
    "    second_number = int(second_number[:-1])\n",
    "    sum += first_number*second_number\n",
    "\n",
    "sum\n"
   ]
  },
  {
   "cell_type": "code",
   "execution_count": null,
   "metadata": {},
   "outputs": [
    {
     "data": {
      "text/plain": [
       "71668682"
      ]
     },
     "execution_count": 27,
     "metadata": {},
     "output_type": "execute_result"
    }
   ],
   "source": [
    "with open(input_file) as file:\n",
    "    content = file.read()\n",
    "    valid_expressions = re.findall(\"mul\\(\\d{,3},\\d{,3}\\)|do\\(\\)|don't\\(\\)\", content)\n",
    "\n",
    "sum = 0\n",
    "active = True\n",
    "\n",
    "for valid_expression in valid_expressions:\n",
    "    if active and \"mul\" in valid_expression:\n",
    "        first_number, second_number = valid_expression.split(\",\")\n",
    "        first_number = int(first_number[4:])\n",
    "        second_number = int(second_number[:-1])\n",
    "        sum += first_number * second_number\n",
    "    elif valid_expression == \"do()\":\n",
    "        active = True\n",
    "    elif valid_expression == \"don't()\":\n",
    "        active = False\n",
    "\n",
    "sum"
   ]
  }
 ],
 "metadata": {
  "kernelspec": {
   "display_name": "venv",
   "language": "python",
   "name": "python3"
  },
  "language_info": {
   "codemirror_mode": {
    "name": "ipython",
    "version": 3
   },
   "file_extension": ".py",
   "mimetype": "text/x-python",
   "name": "python",
   "nbconvert_exporter": "python",
   "pygments_lexer": "ipython3",
   "version": "3.11.9"
  }
 },
 "nbformat": 4,
 "nbformat_minor": 2
}
