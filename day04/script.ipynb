{
 "cells": [
  {
   "cell_type": "code",
   "execution_count": 1,
   "metadata": {},
   "outputs": [],
   "source": [
    "import pandas as pd\n",
    "input_file = \"input.txt\"\n",
    "\n",
    "with open(input_file) as file:\n",
    "    lines = file.readlines()\n",
    "    lines = map(lambda x: list(x.strip()), lines)\n",
    "    df = pd.DataFrame(lines)\n",
    "   \n",
    "rows, columns = df.shape\n"
   ]
  },
  {
   "cell_type": "code",
   "execution_count": 2,
   "metadata": {},
   "outputs": [],
   "source": [
    "from collections import namedtuple\n",
    "MovementIndicator = namedtuple('MovementIndicator', ['horizontal', 'vertical'])"
   ]
  },
  {
   "cell_type": "code",
   "execution_count": 3,
   "metadata": {},
   "outputs": [
    {
     "data": {
      "text/plain": [
       "2344"
      ]
     },
     "execution_count": 3,
     "metadata": {},
     "output_type": "execute_result"
    }
   ],
   "source": [
    "def check_path(start_i_row, start_i_col, df, movement_indicator: MovementIndicator):\n",
    "    goal = \"XMAS\"\n",
    "    \n",
    "    i_row = start_i_row\n",
    "    i_col = start_i_col\n",
    "    \n",
    "    result = df.iloc[i_row, i_col]\n",
    "    is_good_path = False \n",
    "    \n",
    "    while len(result) < len(goal):\n",
    "        if not goal.startswith(result):\n",
    "            break\n",
    "        #move one step further\n",
    "        i_col = i_col + movement_indicator.horizontal\n",
    "        i_row = i_row + movement_indicator.vertical\n",
    "        \n",
    "        if i_col < 0 or i_row < 0 or i_col >= columns or i_row >= rows:\n",
    "            # out of bounds\n",
    "            break\n",
    "        \n",
    "        result += df.iloc[i_row, i_col]\n",
    "        if result == goal:\n",
    "            is_good_path = True\n",
    "    return is_good_path\n",
    "\n",
    "def get_number_of_x_mas(i_row, i_col, df):\n",
    "    up_left = MovementIndicator(horizontal=-1, vertical=-1)\n",
    "    up = MovementIndicator(horizontal=0, vertical=-1)\n",
    "    up_right = MovementIndicator(horizontal=1, vertical=-1)\n",
    "    right = MovementIndicator(horizontal=1, vertical=0)\n",
    "    down_right = MovementIndicator(horizontal=1, vertical=1)\n",
    "    down = MovementIndicator(horizontal=0, vertical=1)\n",
    "    down_left = MovementIndicator(horizontal=-1, vertical=1)\n",
    "    left = MovementIndicator(horizontal=-1, vertical=0)\n",
    "    \n",
    "    all_directions = [up_left, up, up_right, right, down_right, down, down_left, left]\n",
    "    checked_directions = list(map(lambda direction: int(check_path(i_row, i_col, df, direction)), all_directions))\n",
    "    result = sum(checked_directions)\n",
    "    return result\n",
    "    \n",
    "total_x_mas = 0\n",
    "for i_col in range(columns):\n",
    "    for i_row in range(rows):\n",
    "        current_value = df.iloc[i_row, i_col]\n",
    "        if current_value == \"X\":\n",
    "            num_of_x_mas_at_position = get_number_of_x_mas(i_row=i_row, i_col=i_col, df=df)\n",
    "            total_x_mas += num_of_x_mas_at_position\n",
    "total_x_mas"
   ]
  },
  {
   "cell_type": "code",
   "execution_count": 4,
   "metadata": {},
   "outputs": [
    {
     "data": {
      "text/plain": [
       "1815"
      ]
     },
     "execution_count": 4,
     "metadata": {},
     "output_type": "execute_result"
    }
   ],
   "source": [
    "# part 2\n",
    "def isCross(i_row, i_col, df):\n",
    "    if i_row == 0 or i_col == 0 or i_col == columns-1 or i_row == rows-1:\n",
    "        return False\n",
    "    top_left_bottom_right = [df.iloc[i_row-1, i_col-1], df.iloc[i_row+1, i_col+1]]\n",
    "    bottom_left_top_right = [df.iloc[i_row+1, i_col-1], df.iloc[i_row-1, i_col+1]]\n",
    "    if \"M\" in top_left_bottom_right and \"M\" in bottom_left_top_right and \"S\" in top_left_bottom_right and \"S\" in bottom_left_top_right:\n",
    "        return True\n",
    "    return False\n",
    "    \n",
    "total_x_mas = 0\n",
    "for i_col in range(columns):\n",
    "    for i_row in range(rows):\n",
    "        current_value = df.iloc[i_row, i_col]\n",
    "        if current_value == \"A\":\n",
    "            if isCross(i_row, i_col, df):\n",
    "                total_x_mas += 1\n",
    "total_x_mas"
   ]
  }
 ],
 "metadata": {
  "kernelspec": {
   "display_name": "venv",
   "language": "python",
   "name": "python3"
  },
  "language_info": {
   "codemirror_mode": {
    "name": "ipython",
    "version": 3
   },
   "file_extension": ".py",
   "mimetype": "text/x-python",
   "name": "python",
   "nbconvert_exporter": "python",
   "pygments_lexer": "ipython3",
   "version": "3.11.9"
  }
 },
 "nbformat": 4,
 "nbformat_minor": 2
}
