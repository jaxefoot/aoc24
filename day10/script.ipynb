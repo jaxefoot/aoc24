{
 "cells": [
  {
   "cell_type": "code",
   "execution_count": 2,
   "metadata": {},
   "outputs": [],
   "source": [
    "import pandas as pd\n",
    "from collections import namedtuple\n",
    "\n",
    "input_file = \"example.txt\"\n",
    "\n",
    "with open(input_file) as file:\n",
    "    lines = list(map(lambda x: list(x.strip()), file.readlines()))\n",
    "    lines\n",
    "df = pd.DataFrame(lines)\n",
    "df = df.astype(\"int\")\n",
    "\n"
   ]
  },
  {
   "cell_type": "code",
   "execution_count": 3,
   "metadata": {},
   "outputs": [
    {
     "data": {
      "text/plain": [
       "(36, 81)"
      ]
     },
     "execution_count": 3,
     "metadata": {},
     "output_type": "execute_result"
    }
   ],
   "source": [
    "Point = namedtuple(\"Point\", [\"x\", \"y\"])\n",
    "Direction = namedtuple(\"Direction\", [\"vertical\", \"horizontal\"])\n",
    "\n",
    "\n",
    "starting_points = df[df == 0].stack().index.values\n",
    "\n",
    "def is_inbounds(point,df):\n",
    "    rows, columns = df.shape\n",
    "    return point.x >= 0 and point.y >= 0 and point.x < columns and point.y < rows\n",
    "\n",
    "def get_neighbour(point: Point, direction: Direction):\n",
    "    return Point(x= point.x + direction.horizontal, y = point.y + direction.vertical)\n",
    "\n",
    "def get_score_of_trail_head(starting_point, df):\n",
    "    row, column = starting_point\n",
    "    goal_destinations = []\n",
    "    rating = 0\n",
    "    stack = [Point(x=column, y=row)]\n",
    "    while stack:\n",
    "        element = stack.pop()\n",
    "        element_value = df.iloc[element.y, element.x]\n",
    "        if element_value == 9:\n",
    "            goal_destinations.append(element)\n",
    "            rating += 1\n",
    "            continue\n",
    "        neighbours = [\n",
    "            get_neighbour(element, Direction(vertical=1, horizontal=0)),\n",
    "            get_neighbour(element, Direction(vertical=-1, horizontal=0)),\n",
    "            get_neighbour(element, Direction(vertical=0, horizontal=1)),\n",
    "            get_neighbour(element, Direction(vertical=0, horizontal=-1)),\n",
    "        ]\n",
    "        neighbours = list(filter(lambda neighbour: is_inbounds(neighbour, df) and df.iloc[neighbour.y, neighbour.x] == element_value+1, neighbours))\n",
    "        stack += neighbours\n",
    "    score = len(set(goal_destinations))\n",
    "    return (score, rating)\n",
    "        \n",
    "\n",
    "score_sum = 0\n",
    "rating_sum = 0\n",
    "for starting_point in list(starting_points):\n",
    "    score,rating = get_score_of_trail_head(starting_point, df)\n",
    "    score_sum += score\n",
    "    rating_sum += rating\n",
    "score_sum, rating_sum\n"
   ]
  }
 ],
 "metadata": {
  "kernelspec": {
   "display_name": "venv",
   "language": "python",
   "name": "python3"
  },
  "language_info": {
   "codemirror_mode": {
    "name": "ipython",
    "version": 3
   },
   "file_extension": ".py",
   "mimetype": "text/x-python",
   "name": "python",
   "nbconvert_exporter": "python",
   "pygments_lexer": "ipython3",
   "version": "3.10.7"
  }
 },
 "nbformat": 4,
 "nbformat_minor": 2
}
