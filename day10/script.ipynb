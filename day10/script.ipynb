{
 "cells": [
  {
   "cell_type": "code",
   "execution_count": null,
   "metadata": {},
   "outputs": [
    {
     "ename": "FileNotFoundError",
     "evalue": "[Errno 2] No such file or directory: 'input.txt'",
     "output_type": "error",
     "traceback": [
      "\u001b[1;31m---------------------------------------------------------------------------\u001b[0m",
      "\u001b[1;31mFileNotFoundError\u001b[0m                         Traceback (most recent call last)",
      "Cell \u001b[1;32mIn[1], line 6\u001b[0m\n\u001b[0;32m      2\u001b[0m \u001b[38;5;28;01mfrom\u001b[39;00m \u001b[38;5;21;01mcollections\u001b[39;00m \u001b[38;5;28;01mimport\u001b[39;00m namedtuple\n\u001b[0;32m      4\u001b[0m input_file \u001b[38;5;241m=\u001b[39m \u001b[38;5;124m\"\u001b[39m\u001b[38;5;124minput.txt\u001b[39m\u001b[38;5;124m\"\u001b[39m\n\u001b[1;32m----> 6\u001b[0m \u001b[38;5;28;01mwith\u001b[39;00m \u001b[38;5;28;43mopen\u001b[39;49m\u001b[43m(\u001b[49m\u001b[43minput_file\u001b[49m\u001b[43m)\u001b[49m \u001b[38;5;28;01mas\u001b[39;00m file:\n\u001b[0;32m      7\u001b[0m     lines \u001b[38;5;241m=\u001b[39m \u001b[38;5;28mlist\u001b[39m(\u001b[38;5;28mmap\u001b[39m(\u001b[38;5;28;01mlambda\u001b[39;00m x: \u001b[38;5;28mlist\u001b[39m(x\u001b[38;5;241m.\u001b[39mstrip()), file\u001b[38;5;241m.\u001b[39mreadlines()))\n\u001b[0;32m      8\u001b[0m     lines\n",
      "File \u001b[1;32mc:\\programming\\data-projects\\aoc24\\venv\\lib\\site-packages\\IPython\\core\\interactiveshell.py:324\u001b[0m, in \u001b[0;36m_modified_open\u001b[1;34m(file, *args, **kwargs)\u001b[0m\n\u001b[0;32m    317\u001b[0m \u001b[38;5;28;01mif\u001b[39;00m file \u001b[38;5;129;01min\u001b[39;00m {\u001b[38;5;241m0\u001b[39m, \u001b[38;5;241m1\u001b[39m, \u001b[38;5;241m2\u001b[39m}:\n\u001b[0;32m    318\u001b[0m     \u001b[38;5;28;01mraise\u001b[39;00m \u001b[38;5;167;01mValueError\u001b[39;00m(\n\u001b[0;32m    319\u001b[0m         \u001b[38;5;124mf\u001b[39m\u001b[38;5;124m\"\u001b[39m\u001b[38;5;124mIPython won\u001b[39m\u001b[38;5;124m'\u001b[39m\u001b[38;5;124mt let you open fd=\u001b[39m\u001b[38;5;132;01m{\u001b[39;00mfile\u001b[38;5;132;01m}\u001b[39;00m\u001b[38;5;124m by default \u001b[39m\u001b[38;5;124m\"\u001b[39m\n\u001b[0;32m    320\u001b[0m         \u001b[38;5;124m\"\u001b[39m\u001b[38;5;124mas it is likely to crash IPython. If you know what you are doing, \u001b[39m\u001b[38;5;124m\"\u001b[39m\n\u001b[0;32m    321\u001b[0m         \u001b[38;5;124m\"\u001b[39m\u001b[38;5;124myou can use builtins\u001b[39m\u001b[38;5;124m'\u001b[39m\u001b[38;5;124m open.\u001b[39m\u001b[38;5;124m\"\u001b[39m\n\u001b[0;32m    322\u001b[0m     )\n\u001b[1;32m--> 324\u001b[0m \u001b[38;5;28;01mreturn\u001b[39;00m io_open(file, \u001b[38;5;241m*\u001b[39margs, \u001b[38;5;241m*\u001b[39m\u001b[38;5;241m*\u001b[39mkwargs)\n",
      "\u001b[1;31mFileNotFoundError\u001b[0m: [Errno 2] No such file or directory: 'input.txt'"
     ]
    }
   ],
   "source": [
    "import pandas as pd\n",
    "from collections import namedtuple\n",
    "\n",
    "input_file = \"example.txt\"\n",
    "\n",
    "with open(input_file) as file:\n",
    "    lines = list(map(lambda x: list(x.strip()), file.readlines()))\n",
    "    lines\n",
    "df = pd.DataFrame(lines)\n",
    "df = df.astype(\"int\")\n",
    "\n"
   ]
  },
  {
   "cell_type": "code",
   "execution_count": 62,
   "metadata": {},
   "outputs": [
    {
     "data": {
      "text/plain": [
       "(786, 1722)"
      ]
     },
     "execution_count": 62,
     "metadata": {},
     "output_type": "execute_result"
    }
   ],
   "source": [
    "Point = namedtuple(\"Point\", [\"x\", \"y\"])\n",
    "Direction = namedtuple(\"Direction\", [\"vertical\", \"horizontal\"])\n",
    "\n",
    "\n",
    "starting_points = df[df == 0].stack().index.values\n",
    "\n",
    "def is_inbounds(point,df):\n",
    "    rows, columns = df.shape\n",
    "    return point.x >= 0 and point.y >= 0 and point.x < columns and point.y < rows\n",
    "\n",
    "def get_neighbour(point: Point, direction: Direction):\n",
    "    return Point(x= point.x + direction.horizontal, y = point.y + direction.vertical)\n",
    "\n",
    "def get_score_of_trail_head(starting_point, df):\n",
    "    row, column = starting_point\n",
    "    goal_destinations = []\n",
    "    rating = 0\n",
    "    stack = [Point(x=column, y=row)]\n",
    "    while stack:\n",
    "        element = stack.pop()\n",
    "        element_value = df.iloc[element.y, element.x]\n",
    "        if element_value == 9:\n",
    "            goal_destinations.append(element)\n",
    "            rating += 1\n",
    "            continue\n",
    "        neighbours = [\n",
    "            get_neighbour(element, Direction(vertical=1, horizontal=0)),\n",
    "            get_neighbour(element, Direction(vertical=-1, horizontal=0)),\n",
    "            get_neighbour(element, Direction(vertical=0, horizontal=1)),\n",
    "            get_neighbour(element, Direction(vertical=0, horizontal=-1)),\n",
    "        ]\n",
    "        neighbours = list(filter(lambda neighbour: is_inbounds(neighbour, df) and df.iloc[neighbour.y, neighbour.x] == element_value+1, neighbours))\n",
    "        stack += neighbours\n",
    "    score = len(set(goal_destinations))\n",
    "    return (score, rating)\n",
    "        \n",
    "\n",
    "score_sum = 0\n",
    "rating_sum = 0\n",
    "for starting_point in list(starting_points):\n",
    "    score,rating = get_score_of_trail_head(starting_point, df)\n",
    "    score_sum += score\n",
    "    rating_sum += rating\n",
    "score_sum, rating_sum\n"
   ]
  }
 ],
 "metadata": {
  "kernelspec": {
   "display_name": "venv",
   "language": "python",
   "name": "python3"
  },
  "language_info": {
   "codemirror_mode": {
    "name": "ipython",
    "version": 3
   },
   "file_extension": ".py",
   "mimetype": "text/x-python",
   "name": "python",
   "nbconvert_exporter": "python",
   "pygments_lexer": "ipython3",
   "version": "3.10.7"
  }
 },
 "nbformat": 4,
 "nbformat_minor": 2
}
