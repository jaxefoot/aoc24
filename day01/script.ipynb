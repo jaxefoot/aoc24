{
 "cells": [
  {
   "cell_type": "code",
   "execution_count": 27,
   "metadata": {},
   "outputs": [],
   "source": [
    "import re\n",
    "\n",
    "input_file = \"input.txt\"\n",
    "with open(input_file,'r') as file:\n",
    "    lines = file.readlines()\n",
    "\n",
    "left_list, right_list = [], []\n",
    "for line in lines:\n",
    "    line = line.strip()\n",
    "    line = re.sub(\" +\", \";\", line)\n",
    "    left_item, right_item = line.split(\";\")\n",
    "    left_list.append(int(left_item))\n",
    "    right_list.append(int(right_item))\n",
    "\n"
   ]
  },
  {
   "cell_type": "code",
   "execution_count": null,
   "metadata": {},
   "outputs": [
    {
     "data": {
      "text/plain": [
       "2192892"
      ]
     },
     "execution_count": 28,
     "metadata": {},
     "output_type": "execute_result"
    }
   ],
   "source": [
    "left_list.sort()\n",
    "right_list.sort()\n",
    "\n",
    "i = 0\n",
    "total_diff = 0\n",
    "while i < len(left_list):\n",
    "\n",
    "    left_item = left_list[i]\n",
    "    right_item = right_list[i]\n",
    "    diff = abs(left_item - right_item)\n",
    "    total_diff += diff\n",
    "    i += 1\n",
    "\n",
    "total_diff"
   ]
  },
  {
   "cell_type": "code",
   "execution_count": null,
   "metadata": {},
   "outputs": [
    {
     "data": {
      "text/plain": [
       "22962826"
      ]
     },
     "execution_count": 29,
     "metadata": {},
     "output_type": "execute_result"
    }
   ],
   "source": [
    "\n",
    "\n",
    "total_score = 0\n",
    "for item in left_list:\n",
    "    itemOccurence = right_list.count(item)\n",
    "    result = item * itemOccurence\n",
    "    total_score += result\n",
    "\n",
    "total_score"
   ]
  }
 ],
 "metadata": {
  "kernelspec": {
   "display_name": "venv",
   "language": "python",
   "name": "python3"
  },
  "language_info": {
   "codemirror_mode": {
    "name": "ipython",
    "version": 3
   },
   "file_extension": ".py",
   "mimetype": "text/x-python",
   "name": "python",
   "nbconvert_exporter": "python",
   "pygments_lexer": "ipython3",
   "version": "3.10.7"
  }
 },
 "nbformat": 4,
 "nbformat_minor": 2
}
