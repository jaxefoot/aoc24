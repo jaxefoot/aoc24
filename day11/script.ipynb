{
 "cells": [
  {
   "cell_type": "code",
   "execution_count": 73,
   "metadata": {},
   "outputs": [],
   "source": [
    "input_file = \"input.txt\"\n",
    "from collections import Counter\n",
    "\n",
    "with open(input_file) as file:\n",
    "    file_content = file.read()\n",
    "stones = file_content.strip().split(\" \")\n",
    "stones = list(map(int, stones))"
   ]
  },
  {
   "cell_type": "code",
   "execution_count": 74,
   "metadata": {},
   "outputs": [
    {
     "data": {
      "text/plain": [
       "(203228, 240884656550923)"
      ]
     },
     "execution_count": 74,
     "metadata": {},
     "output_type": "execute_result"
    }
   ],
   "source": [
    "def apply_blink_to_stone(stone):\n",
    "    if stone == 0:\n",
    "        return [1]\n",
    "    if len(str(stone)) % 2 == 0:\n",
    "        stone_string =str(stone)\n",
    "        number_of_digits = len(stone_string)\n",
    "        left = stone_string[:int(number_of_digits/2)]\n",
    "        right = stone_string[int(number_of_digits/2):]\n",
    "        return [int(left), int(right)]\n",
    "    return [stone * 2024]\n",
    "\n",
    "def apply_optimized_blink(stones: Counter) -> Counter:\n",
    "    all_keys = stones.keys()\n",
    "    result_counter = {}\n",
    "    for stone in all_keys:\n",
    "        stone_results = apply_blink_to_stone(stone)\n",
    "        for result in stone_results:\n",
    "            if result in result_counter:\n",
    "                result_counter[result] += stones.get(stone)\n",
    "            else: result_counter[result] = stones.get(stone)\n",
    "    return result_counter\n",
    "        \n",
    "def part_1_2(stones, num_blinks):\n",
    "    temp_stones = Counter(stones)\n",
    "    for i in range(num_blinks):\n",
    "        temp_stones = apply_optimized_blink(temp_stones)\n",
    "    return sum(temp_stones.values())\n",
    "part_1_2(stones, 25), part_1_2(stones, 75)"
   ]
  }
 ],
 "metadata": {
  "kernelspec": {
   "display_name": "venv",
   "language": "python",
   "name": "python3"
  },
  "language_info": {
   "codemirror_mode": {
    "name": "ipython",
    "version": 3
   },
   "file_extension": ".py",
   "mimetype": "text/x-python",
   "name": "python",
   "nbconvert_exporter": "python",
   "pygments_lexer": "ipython3",
   "version": "3.11.9"
  }
 },
 "nbformat": 4,
 "nbformat_minor": 2
}
