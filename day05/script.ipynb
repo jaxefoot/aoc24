{
 "cells": [
  {
   "cell_type": "markdown",
   "metadata": {},
   "source": [
    "# Parsing"
   ]
  },
  {
   "cell_type": "code",
   "execution_count": 399,
   "metadata": {},
   "outputs": [],
   "source": [
    "import math\n",
    "input_file = \"input.txt\"\n",
    "\n",
    "def parse_page_order_rules(input_string):\n",
    "    inputs = input_string.split(\"|\")\n",
    "    return tuple(map(lambda y: int(y), inputs))\n",
    "\n",
    "def parse_pages_of_update(input_string):\n",
    "    inputs = input_string.split(\",\")\n",
    "    return list(map(lambda y: int(y), inputs))\n",
    "\n",
    "def get_pages_that_need_to_be_updated_before_page(page_order_rules: list):\n",
    "    result = {}\n",
    "    for entry in page_order_rules:\n",
    "        before, after = entry\n",
    "        if after in result:\n",
    "            result[after].append(before)\n",
    "        else: result[after] = [before]\n",
    "    return result\n",
    "\n",
    "def get_pages_that_need_to_be_updated_after_page(page_order_rules: list):\n",
    "    result = {}\n",
    "    for entry in page_order_rules:\n",
    "        before, after = entry\n",
    "        if before in result:\n",
    "            result[before].append(after)\n",
    "        else: result[before] = [after]\n",
    "    return result\n",
    "\n",
    "def check_update_validity(update, rules_lookup):\n",
    "    result = True\n",
    "    for index, value in enumerate(update):\n",
    "        pages_after_index = update[index+1:]\n",
    "        pages_needed_before_index = rules_lookup.get(value, [])\n",
    "        intersecting_pages = set(pages_after_index).intersection(pages_needed_before_index)\n",
    "        if(len(intersecting_pages) > 0):\n",
    "            result = False\n",
    "            break\n",
    "    return result\n",
    "\n",
    "with open(input_file) as file:\n",
    "    lines = file.readlines()\n",
    "    lines = list(map(lambda x: x.strip(), lines))\n",
    "    index_of_empty_line = lines.index(\"\")\n",
    "    page_order_rules = lines[:index_of_empty_line]\n",
    "    page_order_rules = list(map(parse_page_order_rules, page_order_rules))\n",
    "    pages_of_update = lines[index_of_empty_line+1:]\n",
    "    pages_of_update = list(map(parse_pages_of_update, pages_of_update))"
   ]
  },
  {
   "cell_type": "markdown",
   "metadata": {},
   "source": [
    "# Part 1"
   ]
  },
  {
   "cell_type": "code",
   "execution_count": 400,
   "metadata": {},
   "outputs": [
    {
     "data": {
      "text/plain": [
       "5732"
      ]
     },
     "execution_count": 400,
     "metadata": {},
     "output_type": "execute_result"
    }
   ],
   "source": [
    "page_needed_before_page_dict = get_pages_that_need_to_be_updated_before_page(page_order_rules)\n",
    "\n",
    "middle_number_part_one_sum = 0\n",
    "for update in pages_of_update:\n",
    "    if check_update_validity(update=update, rules_lookup=page_needed_before_page_dict):\n",
    "        middle_index = math.floor(len(update)/2)\n",
    "        middle_number_part_one_sum += update[middle_index]\n",
    "        \n",
    "middle_number_part_one_sum\n",
    "        "
   ]
  },
  {
   "cell_type": "markdown",
   "metadata": {},
   "source": [
    "# Part 2"
   ]
  },
  {
   "cell_type": "code",
   "execution_count": null,
   "metadata": {},
   "outputs": [],
   "source": [
    "# preparation\n",
    "def filter_list_on_list(list1, filter_list):\n",
    "    return list(set(list1) & set(filter_list))\n",
    "\n",
    "def get_update_pages_missing_in_sorted(updates, sorted):\n",
    "    return list(set(updates)-set(sorted))\n",
    "\n",
    "def sort_update(update, pages_before_page_dict, pages_after_page_dict):\n",
    "    first_item = update[0]\n",
    "    \n",
    "    pages_before_item = pages_before_page_dict.get(first_item, [])\n",
    "    pages_after_item = pages_after_page_dict.get(first_item, [])\n",
    "    \n",
    "    pages_before_item = filter_list_on_list(pages_before_item, update)\n",
    "    pages_after_item = filter_list_on_list(pages_after_item, update)\n",
    "    \n",
    "    if not check_update_validity(pages_before_item, pages_before_page_dict):\n",
    "        pages_before_item = sort_update(pages_before_item, pages_before_page_dict, pages_after_page_dict)\n",
    "    if not check_update_validity(pages_after_item, pages_before_page_dict):\n",
    "        pages_after_item = sort_update(pages_after_item, pages_before_page_dict, pages_after_page_dict)\n",
    "    \n",
    "    result = pages_before_item + [first_item] + pages_after_item\n",
    "    # Assumption dont have to walk the graph\n",
    "    return result\n",
    "\n",
    "\n",
    "pages_before_page_dict = get_pages_that_need_to_be_updated_before_page(page_order_rules=page_order_rules)\n",
    "pages_after_page_dict = get_pages_that_need_to_be_updated_after_page(page_order_rules=page_order_rules)"
   ]
  },
  {
   "cell_type": "code",
   "execution_count": 402,
   "metadata": {},
   "outputs": [
    {
     "data": {
      "text/plain": [
       "4716"
      ]
     },
     "execution_count": 402,
     "metadata": {},
     "output_type": "execute_result"
    }
   ],
   "source": [
    "# solution\n",
    "middle_number_part_two_sum = 0\n",
    "\n",
    "for index, update in enumerate(pages_of_update):\n",
    "    if not check_update_validity(update=update, rules_lookup=page_needed_before_page_dict):\n",
    "        sorted_update = sort_update(update, pages_before_page_dict, pages_after_page_dict)\n",
    "        middle_index = math.floor(len(sorted_update)/2)\n",
    "        middle_number_part_two_sum += sorted_update[middle_index]\n",
    "\n",
    "middle_number_part_two_sum"
   ]
  }
 ],
 "metadata": {
  "kernelspec": {
   "display_name": "venv",
   "language": "python",
   "name": "python3"
  },
  "language_info": {
   "codemirror_mode": {
    "name": "ipython",
    "version": 3
   },
   "file_extension": ".py",
   "mimetype": "text/x-python",
   "name": "python",
   "nbconvert_exporter": "python",
   "pygments_lexer": "ipython3",
   "version": "3.11.9"
  }
 },
 "nbformat": 4,
 "nbformat_minor": 2
}
