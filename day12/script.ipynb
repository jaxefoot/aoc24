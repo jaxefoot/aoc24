{
 "cells": [
  {
   "cell_type": "code",
   "execution_count": 81,
   "metadata": {},
   "outputs": [],
   "source": [
    "import pandas as pd"
   ]
  },
  {
   "cell_type": "code",
   "execution_count": 82,
   "metadata": {},
   "outputs": [],
   "source": [
    "input_file = \"input.txt\""
   ]
  },
  {
   "cell_type": "code",
   "execution_count": 83,
   "metadata": {},
   "outputs": [],
   "source": [
    "with open(input_file) as file:\n",
    "    plant_types = set(file.read().replace(\"\\n\", \"\"))\n",
    "with open(input_file) as file:\n",
    "    df = pd.DataFrame(list(map(lambda x: list(x.strip()), file.readlines())))"
   ]
  },
  {
   "cell_type": "code",
   "execution_count": 85,
   "metadata": {},
   "outputs": [
    {
     "data": {
      "text/plain": [
       "(1415378, 862714)"
      ]
     },
     "execution_count": 85,
     "metadata": {},
     "output_type": "execute_result"
    }
   ],
   "source": [
    "from collections import namedtuple\n",
    "Direction = namedtuple(\"Direction\", [\"vertical\", \"horizontal\"])\n",
    "Point = namedtuple(\"Point\", [\"x\", \"y\"])\n",
    "\n",
    "def get_positions_of_plant_type(plant_type, field):\n",
    "    coordinates = field[field == plant_type].stack().index.values\n",
    "    points = list(map(lambda x: Point(x=x[1], y=x[0]), coordinates))\n",
    "    return points\n",
    "\n",
    "def get_neighbour(point: Point, direction: Direction):\n",
    "    return Point(x= point.x + direction.horizontal, y = point.y + direction.vertical)\n",
    "\n",
    "\n",
    "\n",
    "def get_region(starting_point, positions):\n",
    "    all_points = set(positions)\n",
    "    points_to_discover = [starting_point]\n",
    "    result = []\n",
    "    while points_to_discover:\n",
    "        element = points_to_discover.pop()\n",
    "        result.append(element)\n",
    "        neighbours = [get_neighbour(element, Direction(vertical=1, horizontal=0)),\n",
    "            get_neighbour(element, Direction(vertical=-1, horizontal=0)),\n",
    "            get_neighbour(element, Direction(vertical=0, horizontal=1)),\n",
    "            get_neighbour(element, Direction(vertical=0, horizontal=-1))]\n",
    "        neighbours = list(filter(lambda x: x in all_points, neighbours))\n",
    "        points_to_discover = points_to_discover + neighbours\n",
    "        all_points = all_points - set(neighbours)\n",
    "    return (result, list(all_points))\n",
    "\n",
    "\n",
    "def get_regions(plant_type, positions):\n",
    "    regions = []\n",
    "    available_points = positions\n",
    "    while available_points:\n",
    "        starting_point = available_points.pop()\n",
    "        region, updated_available_points = get_region(starting_point, available_points)\n",
    "        available_points = updated_available_points\n",
    "        regions.append(region)\n",
    "    return regions\n",
    "\n",
    "def get_fences(region):\n",
    "    region_points = set(region)\n",
    "    fences_per_point = {}\n",
    "    for point in region:\n",
    "        neighbours = set([get_neighbour(point, Direction(vertical=1, horizontal=0)),\n",
    "            get_neighbour(point, Direction(vertical=-1, horizontal=0)),\n",
    "            get_neighbour(point, Direction(vertical=0, horizontal=1)),\n",
    "            get_neighbour(point, Direction(vertical=0, horizontal=-1))])\n",
    "        outside_neighbours = neighbours - region_points\n",
    "        fences_per_point[point] = len(outside_neighbours)\n",
    "    return fences_per_point\n",
    "\n",
    "def get_sides(region):\n",
    "    region_points = set(region)\n",
    "    fences = {}\n",
    "    for point in region:\n",
    "        directions = set([Direction(vertical=1, horizontal=0),\n",
    "            Direction(vertical=-1, horizontal=0),\n",
    "            Direction(vertical=0, horizontal=1),\n",
    "            Direction(vertical=0, horizontal=-1)])\n",
    "        \n",
    "        for direction in directions:\n",
    "            neighbour = get_neighbour(point, direction)\n",
    "            if neighbour in region_points:\n",
    "                continue\n",
    "            relevant_axis = point.y if direction.vertical != 0 else point.x\n",
    "            other_axis = point.x if direction.vertical != 0 else point.y\n",
    "            side_key = (relevant_axis, direction)\n",
    "            if side_key in fences:\n",
    "                fences[side_key].append(other_axis)\n",
    "            else:\n",
    "                fences[side_key] = [other_axis]\n",
    "\n",
    "    for side_key in fences.keys():\n",
    "        num_of_sides = get_number_of_uninterrupted_series(fences[side_key])\n",
    "        fences[side_key] = num_of_sides\n",
    "            \n",
    "    return fences\n",
    "\n",
    "\n",
    "def get_number_of_uninterrupted_series(some_int_list):\n",
    "    some_int_list.sort()\n",
    "    num_of_series = 1\n",
    "    for index, value in enumerate(some_int_list):\n",
    "        if index >= len(some_int_list)-1:\n",
    "            continue\n",
    "        next_value = some_int_list[index+1]\n",
    "        if abs(next_value-value) > 1:\n",
    "            num_of_series += 1\n",
    "    return num_of_series\n",
    "\n",
    "\n",
    "result1 = 0\n",
    "result2 = 0\n",
    "for plant_type in list(plant_types):\n",
    "\n",
    "    plant_positions = get_positions_of_plant_type(plant_type, df)\n",
    "    regions = get_regions(plant_type, plant_positions)\n",
    "    for region in regions:\n",
    "        fences = get_fences(region)\n",
    "        sides = get_sides(region)\n",
    "\n",
    "\n",
    "        number_of_fences = sum(fences.values())\n",
    "        number_of_sides = sum(sides.values())\n",
    "\n",
    "        result1 += (number_of_fences*len(region))\n",
    "        result2 += (number_of_sides*len(region))\n",
    "result1, result2\n",
    "    "
   ]
  },
  {
   "cell_type": "code",
   "execution_count": null,
   "metadata": {},
   "outputs": [],
   "source": []
  }
 ],
 "metadata": {
  "kernelspec": {
   "display_name": "venv",
   "language": "python",
   "name": "python3"
  },
  "language_info": {
   "codemirror_mode": {
    "name": "ipython",
    "version": 3
   },
   "file_extension": ".py",
   "mimetype": "text/x-python",
   "name": "python",
   "nbconvert_exporter": "python",
   "pygments_lexer": "ipython3",
   "version": "3.10.7"
  }
 },
 "nbformat": 4,
 "nbformat_minor": 2
}
