{
 "cells": [
  {
   "cell_type": "code",
   "execution_count": 5,
   "metadata": {},
   "outputs": [],
   "source": [
    "input_file = \"input.txt\"\n",
    "from collections import namedtuple\n",
    "import pandas as pd\n",
    "import numpy as np\n",
    "\n",
    "Equation = namedtuple('Equation', ['result', 'input'])\n",
    "\n",
    "def parse_input(line):\n",
    "    result, input = line.strip().split(\": \")\n",
    "    result = int(result)\n",
    "    input = input.split(\" \")\n",
    "    input = list(map(int, input))\n",
    "    return Equation(result=result, input=input)\n",
    "\n",
    "\n",
    "with open(input_file) as file:\n",
    "    lines = file.readlines()\n",
    "    equations = list(map(parse_input, lines))"
   ]
  },
  {
   "cell_type": "markdown",
   "metadata": {},
   "source": [
    "# Approach 1: Brute Force\n",
    "Worked for Task 1"
   ]
  },
  {
   "cell_type": "code",
   "execution_count": 6,
   "metadata": {},
   "outputs": [],
   "source": [
    "def operator_to_number_string(operator):\n",
    "    if operator == \"+\":\n",
    "        return \"0\"\n",
    "    if operator == \"*\":\n",
    "        return \"1\"\n",
    "    if(operator == \"\"):\n",
    "        return \"2\"\n",
    "\n",
    "def number_string_to_operator(number_string):\n",
    "    if number_string == \"0\":\n",
    "        return \"+\"\n",
    "    if number_string == \"1\":\n",
    "        return \"*\"\n",
    "    if(number_string == \"2\"):\n",
    "        return \"\"\n",
    "\n",
    "def get_next_operators(operators, base):\n",
    "    max_number = pow(base, len(operators))-1\n",
    "    binary_operators = list(map(operator_to_number_string, operators))\n",
    "    binary_operators = ''.join(binary_operators)\n",
    "    operator_number = int(binary_operators, base)\n",
    "    next_operator_number = operator_number + 1\n",
    "    if next_operator_number > max_number:\n",
    "        return None\n",
    "    next_operator_binary = np.base_repr(next_operator_number, base=base).zfill(len(operators))\n",
    "    return list(map(number_string_to_operator, list(next_operator_binary)))\n",
    "\n",
    "def calculate(input, operators, expected_result):\n",
    "    result = input[0]\n",
    "    for index, value in enumerate(operators):\n",
    "        result = eval(str(result)+value+str(input[index+1]))\n",
    "        if result > expected_result:\n",
    "            return None\n",
    "    return result\n",
    "\n",
    "\n",
    "def get_starting_operators(input):\n",
    "    return [\"+\"]*(len(input) - 1)\n",
    "\n",
    "\n",
    "# sum_of_results = 0\n",
    "# for equation in equations:\n",
    "#     can_be_solved = False\n",
    "#     operators = get_starting_operators(equation.input)\n",
    "#     while not can_be_solved and operators != None:\n",
    "#         # print(operators)\n",
    "#         # print(result)\n",
    "#         # print(\"____\")\n",
    "#         result = calculate(equation.input, operators, equation.result)\n",
    "#         if result == equation.result:\n",
    "#             can_be_solved = True\n",
    "#             sum_of_results += result\n",
    "#         else:\n",
    "#             # 2 for part 1, 3 for part 2\n",
    "#             operators=get_next_operators(operators, 2)"
   ]
  },
  {
   "cell_type": "code",
   "execution_count": 7,
   "metadata": {},
   "outputs": [
    {
     "data": {
      "text/plain": [
       "5     242\n",
       "6     122\n",
       "7      95\n",
       "9      82\n",
       "8      80\n",
       "12     77\n",
       "11     59\n",
       "10     58\n",
       "4      23\n",
       "3      12\n",
       "Name: count, dtype: int64"
      ]
     },
     "execution_count": 7,
     "metadata": {},
     "output_type": "execute_result"
    }
   ],
   "source": [
    "equations = pd.Series(equations)\n",
    "equations.map(lambda x: len(x.input)).value_counts()"
   ]
  },
  {
   "cell_type": "markdown",
   "metadata": {},
   "source": [
    "# Approach 2: Tree with cancellation\n",
    "\n"
   ]
  },
  {
   "cell_type": "code",
   "execution_count": 8,
   "metadata": {},
   "outputs": [
    {
     "data": {
      "text/plain": [
       "581941094529163"
      ]
     },
     "execution_count": 8,
     "metadata": {},
     "output_type": "execute_result"
    }
   ],
   "source": [
    "from typing import List\n",
    "CachedEvaluation = namedtuple('CachedEvaluation', ['operator', 'last_result', 'operator_history'])\n",
    "\n",
    "def evaluate_operators(equation: Equation, evaluation: CachedEvaluation):\n",
    "    result = evaluation.last_result\n",
    "\n",
    "    next_number_index = len(evaluation.operator_history) + 1\n",
    "\n",
    "    next_number = equation.input[next_number_index]\n",
    "\n",
    "    if evaluation.operator == \"+\":\n",
    "        return result + next_number\n",
    "    \n",
    "    if evaluation.operator == \"*\":\n",
    "        return result * next_number\n",
    "    \n",
    "    if evaluation.operator == \"||\":\n",
    "        return int(str(result) + str(next_number))\n",
    "\n",
    "def evalute_equation(equation: Equation, available_operators: List[str]):\n",
    "    evaluations = list(map(lambda operator: CachedEvaluation(operator=operator, last_result=equation.input[0], operator_history=[]), available_operators)) \n",
    "    while evaluations:\n",
    "        #depth-search\n",
    "        evaluation = evaluations.pop()\n",
    "        result = evaluate_operators(equation, evaluation)\n",
    "        operators_of_result = evaluation.operator_history + [evaluation.operator]\n",
    "\n",
    "        if result == equation.result and len(operators_of_result) == len(equation.input)-1:\n",
    "            return True\n",
    "        if result <= equation.result and len(operators_of_result) < len(equation.input)-1:\n",
    "            for operator in available_operators:\n",
    "                evaluations.append(CachedEvaluation(operator=operator, last_result=result, operator_history=operators_of_result))\n",
    "    return False\n",
    "\n",
    "\n",
    "calibration_result = 0\n",
    "for index, equation in enumerate(equations):\n",
    "    if evalute_equation(equation, [\"+\", \"*\", \"||\"]):\n",
    "        calibration_result += equation.result\n",
    " \n",
    "calibration_result\n",
    "\n"
   ]
  }
 ],
 "metadata": {
  "kernelspec": {
   "display_name": "venv",
   "language": "python",
   "name": "python3"
  },
  "language_info": {
   "codemirror_mode": {
    "name": "ipython",
    "version": 3
   },
   "file_extension": ".py",
   "mimetype": "text/x-python",
   "name": "python",
   "nbconvert_exporter": "python",
   "pygments_lexer": "ipython3",
   "version": "3.10.7"
  }
 },
 "nbformat": 4,
 "nbformat_minor": 2
}
